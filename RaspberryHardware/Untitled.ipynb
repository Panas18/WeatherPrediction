{
 "cells": [
  {
   "cell_type": "code",
   "execution_count": 1,
   "metadata": {},
   "outputs": [],
   "source": [
    "import pandas as pd"
   ]
  },
  {
   "cell_type": "code",
   "execution_count": 2,
   "metadata": {},
   "outputs": [],
   "source": [
    "dataset= pd.read_csv(\"data.csv\")"
   ]
  },
  {
   "cell_type": "code",
   "execution_count": 3,
   "metadata": {
    "scrolled": true
   },
   "outputs": [
    {
     "data": {
      "text/html": [
       "<div>\n",
       "<style scoped>\n",
       "    .dataframe tbody tr th:only-of-type {\n",
       "        vertical-align: middle;\n",
       "    }\n",
       "\n",
       "    .dataframe tbody tr th {\n",
       "        vertical-align: top;\n",
       "    }\n",
       "\n",
       "    .dataframe thead th {\n",
       "        text-align: right;\n",
       "    }\n",
       "</style>\n",
       "<table border=\"1\" class=\"dataframe\">\n",
       "  <thead>\n",
       "    <tr style=\"text-align: right;\">\n",
       "      <th></th>\n",
       "      <th>SN</th>\n",
       "      <th>Date</th>\n",
       "      <th>Time</th>\n",
       "      <th>Temperature</th>\n",
       "      <th>Humidity</th>\n",
       "    </tr>\n",
       "  </thead>\n",
       "  <tbody>\n",
       "    <tr>\n",
       "      <th>0</th>\n",
       "      <td>1</td>\n",
       "      <td>2021-02-14</td>\n",
       "      <td>11:35:03</td>\n",
       "      <td>19.0</td>\n",
       "      <td>58.0</td>\n",
       "    </tr>\n",
       "    <tr>\n",
       "      <th>1</th>\n",
       "      <td>2</td>\n",
       "      <td>2021-02-14</td>\n",
       "      <td>11:35:12</td>\n",
       "      <td>19.0</td>\n",
       "      <td>58.0</td>\n",
       "    </tr>\n",
       "    <tr>\n",
       "      <th>2</th>\n",
       "      <td>3</td>\n",
       "      <td>2021-02-14</td>\n",
       "      <td>11:35:19</td>\n",
       "      <td>19.0</td>\n",
       "      <td>58.0</td>\n",
       "    </tr>\n",
       "    <tr>\n",
       "      <th>3</th>\n",
       "      <td>4</td>\n",
       "      <td>2021-02-14</td>\n",
       "      <td>11:36:14</td>\n",
       "      <td>19.0</td>\n",
       "      <td>54.0</td>\n",
       "    </tr>\n",
       "    <tr>\n",
       "      <th>4</th>\n",
       "      <td>5</td>\n",
       "      <td>2021-02-14</td>\n",
       "      <td>11:37:03</td>\n",
       "      <td>9.0</td>\n",
       "      <td>155.0</td>\n",
       "    </tr>\n",
       "  </tbody>\n",
       "</table>\n",
       "</div>"
      ],
      "text/plain": [
       "   SN         Date       Time  Temperature  Humidity\n",
       "0   1   2021-02-14   11:35:03         19.0      58.0\n",
       "1   2   2021-02-14   11:35:12         19.0      58.0\n",
       "2   3   2021-02-14   11:35:19         19.0      58.0\n",
       "3   4   2021-02-14   11:36:14         19.0      54.0\n",
       "4   5   2021-02-14   11:37:03          9.0     155.0"
      ]
     },
     "execution_count": 3,
     "metadata": {},
     "output_type": "execute_result"
    }
   ],
   "source": [
    "dataset.head()"
   ]
  },
  {
   "cell_type": "code",
   "execution_count": 4,
   "metadata": {},
   "outputs": [],
   "source": [
    "alldata = []\n",
    "for i in range(dataset.shape[0]):\n",
    "    temp=dataset.iloc[i]\n",
    "    alldata.append(dict(temp))"
   ]
  },
  {
   "cell_type": "code",
   "execution_count": 8,
   "metadata": {},
   "outputs": [
    {
     "data": {
      "text/plain": [
       "[{'SN': 1,\n",
       "  'Date': ' 2021-02-14',\n",
       "  'Time': ' 11:35:03',\n",
       "  'Temperature': 19.0,\n",
       "  'Humidity': 58.0},\n",
       " {'SN': 2,\n",
       "  'Date': ' 2021-02-14',\n",
       "  'Time': ' 11:35:12',\n",
       "  'Temperature': 19.0,\n",
       "  'Humidity': 58.0},\n",
       " {'SN': 3,\n",
       "  'Date': ' 2021-02-14',\n",
       "  'Time': ' 11:35:19',\n",
       "  'Temperature': 19.0,\n",
       "  'Humidity': 58.0},\n",
       " {'SN': 4,\n",
       "  'Date': ' 2021-02-14',\n",
       "  'Time': ' 11:36:14',\n",
       "  'Temperature': 19.0,\n",
       "  'Humidity': 54.0},\n",
       " {'SN': 5,\n",
       "  'Date': ' 2021-02-14',\n",
       "  'Time': ' 11:37:03',\n",
       "  'Temperature': 9.0,\n",
       "  'Humidity': 155.0},\n",
       " {'SN': 6,\n",
       "  'Date': ' 2021-02-14',\n",
       "  'Time': ' 11:37:15',\n",
       "  'Temperature': 19.0,\n",
       "  'Humidity': 59.0},\n",
       " {'SN': 7,\n",
       "  'Date': ' 2021-02-14',\n",
       "  'Time': ' 11:37:22',\n",
       "  'Temperature': 19.0,\n",
       "  'Humidity': 59.0},\n",
       " {'SN': 8,\n",
       "  'Date': ' 2021-02-14',\n",
       "  'Time': ' 11:37:28',\n",
       "  'Temperature': 19.0,\n",
       "  'Humidity': 53.0},\n",
       " {'SN': 9,\n",
       "  'Date': ' 2021-02-14',\n",
       "  'Time': ' 11:37:34',\n",
       "  'Temperature': 19.0,\n",
       "  'Humidity': 53.0},\n",
       " {'SN': 10,\n",
       "  'Date': ' 2021-02-14',\n",
       "  'Time': ' 11:37:40',\n",
       "  'Temperature': 20.0,\n",
       "  'Humidity': 53.0}]"
      ]
     },
     "execution_count": 8,
     "metadata": {},
     "output_type": "execute_result"
    }
   ],
   "source": [
    "alldata[:10]\n"
   ]
  },
  {
   "cell_type": "code",
   "execution_count": null,
   "metadata": {},
   "outputs": [],
   "source": []
  }
 ],
 "metadata": {
  "kernelspec": {
   "display_name": "Python 3",
   "language": "python",
   "name": "python3"
  },
  "language_info": {
   "codemirror_mode": {
    "name": "ipython",
    "version": 3
   },
   "file_extension": ".py",
   "mimetype": "text/x-python",
   "name": "python",
   "nbconvert_exporter": "python",
   "pygments_lexer": "ipython3",
   "version": "3.8.5"
  }
 },
 "nbformat": 4,
 "nbformat_minor": 4
}
