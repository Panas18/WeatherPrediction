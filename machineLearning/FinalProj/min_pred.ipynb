{
 "cells": [
  {
   "cell_type": "code",
   "execution_count": 1,
   "metadata": {},
   "outputs": [],
   "source": [
    "import pandas as pd\n",
    "import numpy as np"
   ]
  },
  {
   "cell_type": "code",
   "execution_count": 35,
   "metadata": {},
   "outputs": [],
   "source": [
    "df = pd.read_csv(\"Datasets/Processed.csv\", index_col=0)"
   ]
  },
  {
   "cell_type": "code",
   "execution_count": 36,
   "metadata": {},
   "outputs": [
    {
     "data": {
      "text/html": [
       "<div>\n",
       "<style scoped>\n",
       "    .dataframe tbody tr th:only-of-type {\n",
       "        vertical-align: middle;\n",
       "    }\n",
       "\n",
       "    .dataframe tbody tr th {\n",
       "        vertical-align: top;\n",
       "    }\n",
       "\n",
       "    .dataframe thead th {\n",
       "        text-align: right;\n",
       "    }\n",
       "</style>\n",
       "<table border=\"1\" class=\"dataframe\">\n",
       "  <thead>\n",
       "    <tr style=\"text-align: right;\">\n",
       "      <th></th>\n",
       "      <th>year</th>\n",
       "      <th>month</th>\n",
       "      <th>max_temp</th>\n",
       "      <th>min_temp</th>\n",
       "      <th>diff_temp</th>\n",
       "      <th>max_1</th>\n",
       "      <th>max_2</th>\n",
       "      <th>max_3</th>\n",
       "      <th>max_4</th>\n",
       "      <th>max_5</th>\n",
       "      <th>min_1</th>\n",
       "      <th>min_2</th>\n",
       "      <th>min_3</th>\n",
       "      <th>min_4</th>\n",
       "      <th>min_5</th>\n",
       "      <th>diff_1</th>\n",
       "      <th>diff_2</th>\n",
       "      <th>diff_3</th>\n",
       "      <th>diff_4</th>\n",
       "      <th>diff_5</th>\n",
       "    </tr>\n",
       "    <tr>\n",
       "      <th>day</th>\n",
       "      <th></th>\n",
       "      <th></th>\n",
       "      <th></th>\n",
       "      <th></th>\n",
       "      <th></th>\n",
       "      <th></th>\n",
       "      <th></th>\n",
       "      <th></th>\n",
       "      <th></th>\n",
       "      <th></th>\n",
       "      <th></th>\n",
       "      <th></th>\n",
       "      <th></th>\n",
       "      <th></th>\n",
       "      <th></th>\n",
       "      <th></th>\n",
       "      <th></th>\n",
       "      <th></th>\n",
       "      <th></th>\n",
       "      <th></th>\n",
       "    </tr>\n",
       "  </thead>\n",
       "  <tbody>\n",
       "    <tr>\n",
       "      <th>6</th>\n",
       "      <td>2009</td>\n",
       "      <td>1</td>\n",
       "      <td>20.6</td>\n",
       "      <td>9.8</td>\n",
       "      <td>10.8</td>\n",
       "      <td>18.8</td>\n",
       "      <td>20.5</td>\n",
       "      <td>20.6</td>\n",
       "      <td>19.2</td>\n",
       "      <td>19.8</td>\n",
       "      <td>8.8</td>\n",
       "      <td>7.8</td>\n",
       "      <td>6.8</td>\n",
       "      <td>5.8</td>\n",
       "      <td>4.8</td>\n",
       "      <td>10.0</td>\n",
       "      <td>12.7</td>\n",
       "      <td>13.8</td>\n",
       "      <td>13.4</td>\n",
       "      <td>15.0</td>\n",
       "    </tr>\n",
       "    <tr>\n",
       "      <th>7</th>\n",
       "      <td>2009</td>\n",
       "      <td>1</td>\n",
       "      <td>21.0</td>\n",
       "      <td>10.8</td>\n",
       "      <td>10.2</td>\n",
       "      <td>20.6</td>\n",
       "      <td>18.8</td>\n",
       "      <td>20.5</td>\n",
       "      <td>20.6</td>\n",
       "      <td>19.2</td>\n",
       "      <td>9.8</td>\n",
       "      <td>8.8</td>\n",
       "      <td>7.8</td>\n",
       "      <td>6.8</td>\n",
       "      <td>5.8</td>\n",
       "      <td>10.8</td>\n",
       "      <td>10.0</td>\n",
       "      <td>12.7</td>\n",
       "      <td>13.8</td>\n",
       "      <td>13.4</td>\n",
       "    </tr>\n",
       "    <tr>\n",
       "      <th>8</th>\n",
       "      <td>2009</td>\n",
       "      <td>1</td>\n",
       "      <td>20.4</td>\n",
       "      <td>11.8</td>\n",
       "      <td>8.6</td>\n",
       "      <td>21.0</td>\n",
       "      <td>20.6</td>\n",
       "      <td>18.8</td>\n",
       "      <td>20.5</td>\n",
       "      <td>20.6</td>\n",
       "      <td>10.8</td>\n",
       "      <td>9.8</td>\n",
       "      <td>8.8</td>\n",
       "      <td>7.8</td>\n",
       "      <td>6.8</td>\n",
       "      <td>10.2</td>\n",
       "      <td>10.8</td>\n",
       "      <td>10.0</td>\n",
       "      <td>12.7</td>\n",
       "      <td>13.8</td>\n",
       "    </tr>\n",
       "    <tr>\n",
       "      <th>9</th>\n",
       "      <td>2009</td>\n",
       "      <td>1</td>\n",
       "      <td>22.2</td>\n",
       "      <td>12.8</td>\n",
       "      <td>9.4</td>\n",
       "      <td>20.4</td>\n",
       "      <td>21.0</td>\n",
       "      <td>20.6</td>\n",
       "      <td>18.8</td>\n",
       "      <td>20.5</td>\n",
       "      <td>11.8</td>\n",
       "      <td>10.8</td>\n",
       "      <td>9.8</td>\n",
       "      <td>8.8</td>\n",
       "      <td>7.8</td>\n",
       "      <td>8.6</td>\n",
       "      <td>10.2</td>\n",
       "      <td>10.8</td>\n",
       "      <td>10.0</td>\n",
       "      <td>12.7</td>\n",
       "    </tr>\n",
       "    <tr>\n",
       "      <th>10</th>\n",
       "      <td>2009</td>\n",
       "      <td>1</td>\n",
       "      <td>21.5</td>\n",
       "      <td>13.8</td>\n",
       "      <td>7.7</td>\n",
       "      <td>22.2</td>\n",
       "      <td>20.4</td>\n",
       "      <td>21.0</td>\n",
       "      <td>20.6</td>\n",
       "      <td>18.8</td>\n",
       "      <td>12.8</td>\n",
       "      <td>11.8</td>\n",
       "      <td>10.8</td>\n",
       "      <td>9.8</td>\n",
       "      <td>8.8</td>\n",
       "      <td>9.4</td>\n",
       "      <td>8.6</td>\n",
       "      <td>10.2</td>\n",
       "      <td>10.8</td>\n",
       "      <td>10.0</td>\n",
       "    </tr>\n",
       "    <tr>\n",
       "      <th>...</th>\n",
       "      <td>...</td>\n",
       "      <td>...</td>\n",
       "      <td>...</td>\n",
       "      <td>...</td>\n",
       "      <td>...</td>\n",
       "      <td>...</td>\n",
       "      <td>...</td>\n",
       "      <td>...</td>\n",
       "      <td>...</td>\n",
       "      <td>...</td>\n",
       "      <td>...</td>\n",
       "      <td>...</td>\n",
       "      <td>...</td>\n",
       "      <td>...</td>\n",
       "      <td>...</td>\n",
       "      <td>...</td>\n",
       "      <td>...</td>\n",
       "      <td>...</td>\n",
       "      <td>...</td>\n",
       "      <td>...</td>\n",
       "    </tr>\n",
       "    <tr>\n",
       "      <th>27</th>\n",
       "      <td>2019</td>\n",
       "      <td>12</td>\n",
       "      <td>15.7</td>\n",
       "      <td>1.2</td>\n",
       "      <td>14.5</td>\n",
       "      <td>15.8</td>\n",
       "      <td>16.7</td>\n",
       "      <td>17.5</td>\n",
       "      <td>18.8</td>\n",
       "      <td>20.3</td>\n",
       "      <td>0.9</td>\n",
       "      <td>2.9</td>\n",
       "      <td>3.2</td>\n",
       "      <td>3.0</td>\n",
       "      <td>4.2</td>\n",
       "      <td>14.9</td>\n",
       "      <td>13.8</td>\n",
       "      <td>14.3</td>\n",
       "      <td>15.8</td>\n",
       "      <td>16.1</td>\n",
       "    </tr>\n",
       "    <tr>\n",
       "      <th>28</th>\n",
       "      <td>2019</td>\n",
       "      <td>12</td>\n",
       "      <td>16.3</td>\n",
       "      <td>0.6</td>\n",
       "      <td>15.7</td>\n",
       "      <td>15.7</td>\n",
       "      <td>15.8</td>\n",
       "      <td>16.7</td>\n",
       "      <td>17.5</td>\n",
       "      <td>18.8</td>\n",
       "      <td>1.2</td>\n",
       "      <td>0.9</td>\n",
       "      <td>2.9</td>\n",
       "      <td>3.2</td>\n",
       "      <td>3.0</td>\n",
       "      <td>14.5</td>\n",
       "      <td>14.9</td>\n",
       "      <td>13.8</td>\n",
       "      <td>14.3</td>\n",
       "      <td>15.8</td>\n",
       "    </tr>\n",
       "    <tr>\n",
       "      <th>29</th>\n",
       "      <td>2019</td>\n",
       "      <td>12</td>\n",
       "      <td>18.1</td>\n",
       "      <td>1.0</td>\n",
       "      <td>17.1</td>\n",
       "      <td>16.3</td>\n",
       "      <td>15.7</td>\n",
       "      <td>15.8</td>\n",
       "      <td>16.7</td>\n",
       "      <td>17.5</td>\n",
       "      <td>0.6</td>\n",
       "      <td>1.2</td>\n",
       "      <td>0.9</td>\n",
       "      <td>2.9</td>\n",
       "      <td>3.2</td>\n",
       "      <td>15.7</td>\n",
       "      <td>14.5</td>\n",
       "      <td>14.9</td>\n",
       "      <td>13.8</td>\n",
       "      <td>14.3</td>\n",
       "    </tr>\n",
       "    <tr>\n",
       "      <th>30</th>\n",
       "      <td>2019</td>\n",
       "      <td>12</td>\n",
       "      <td>18.0</td>\n",
       "      <td>1.2</td>\n",
       "      <td>16.8</td>\n",
       "      <td>18.1</td>\n",
       "      <td>16.3</td>\n",
       "      <td>15.7</td>\n",
       "      <td>15.8</td>\n",
       "      <td>16.7</td>\n",
       "      <td>1.0</td>\n",
       "      <td>0.6</td>\n",
       "      <td>1.2</td>\n",
       "      <td>0.9</td>\n",
       "      <td>2.9</td>\n",
       "      <td>17.1</td>\n",
       "      <td>15.7</td>\n",
       "      <td>14.5</td>\n",
       "      <td>14.9</td>\n",
       "      <td>13.8</td>\n",
       "    </tr>\n",
       "    <tr>\n",
       "      <th>31</th>\n",
       "      <td>2019</td>\n",
       "      <td>12</td>\n",
       "      <td>17.4</td>\n",
       "      <td>1.5</td>\n",
       "      <td>15.9</td>\n",
       "      <td>18.0</td>\n",
       "      <td>18.1</td>\n",
       "      <td>16.3</td>\n",
       "      <td>15.7</td>\n",
       "      <td>15.8</td>\n",
       "      <td>1.2</td>\n",
       "      <td>1.0</td>\n",
       "      <td>0.6</td>\n",
       "      <td>1.2</td>\n",
       "      <td>0.9</td>\n",
       "      <td>16.8</td>\n",
       "      <td>17.1</td>\n",
       "      <td>15.7</td>\n",
       "      <td>14.5</td>\n",
       "      <td>14.9</td>\n",
       "    </tr>\n",
       "  </tbody>\n",
       "</table>\n",
       "<p>3357 rows × 20 columns</p>\n",
       "</div>"
      ],
      "text/plain": [
       "     year  month  max_temp  min_temp  diff_temp  max_1  max_2  max_3  max_4  \\\n",
       "day                                                                           \n",
       "6    2009      1      20.6       9.8       10.8   18.8   20.5   20.6   19.2   \n",
       "7    2009      1      21.0      10.8       10.2   20.6   18.8   20.5   20.6   \n",
       "8    2009      1      20.4      11.8        8.6   21.0   20.6   18.8   20.5   \n",
       "9    2009      1      22.2      12.8        9.4   20.4   21.0   20.6   18.8   \n",
       "10   2009      1      21.5      13.8        7.7   22.2   20.4   21.0   20.6   \n",
       "..    ...    ...       ...       ...        ...    ...    ...    ...    ...   \n",
       "27   2019     12      15.7       1.2       14.5   15.8   16.7   17.5   18.8   \n",
       "28   2019     12      16.3       0.6       15.7   15.7   15.8   16.7   17.5   \n",
       "29   2019     12      18.1       1.0       17.1   16.3   15.7   15.8   16.7   \n",
       "30   2019     12      18.0       1.2       16.8   18.1   16.3   15.7   15.8   \n",
       "31   2019     12      17.4       1.5       15.9   18.0   18.1   16.3   15.7   \n",
       "\n",
       "     max_5  min_1  min_2  min_3  min_4  min_5  diff_1  diff_2  diff_3  diff_4  \\\n",
       "day                                                                             \n",
       "6     19.8    8.8    7.8    6.8    5.8    4.8    10.0    12.7    13.8    13.4   \n",
       "7     19.2    9.8    8.8    7.8    6.8    5.8    10.8    10.0    12.7    13.8   \n",
       "8     20.6   10.8    9.8    8.8    7.8    6.8    10.2    10.8    10.0    12.7   \n",
       "9     20.5   11.8   10.8    9.8    8.8    7.8     8.6    10.2    10.8    10.0   \n",
       "10    18.8   12.8   11.8   10.8    9.8    8.8     9.4     8.6    10.2    10.8   \n",
       "..     ...    ...    ...    ...    ...    ...     ...     ...     ...     ...   \n",
       "27    20.3    0.9    2.9    3.2    3.0    4.2    14.9    13.8    14.3    15.8   \n",
       "28    18.8    1.2    0.9    2.9    3.2    3.0    14.5    14.9    13.8    14.3   \n",
       "29    17.5    0.6    1.2    0.9    2.9    3.2    15.7    14.5    14.9    13.8   \n",
       "30    16.7    1.0    0.6    1.2    0.9    2.9    17.1    15.7    14.5    14.9   \n",
       "31    15.8    1.2    1.0    0.6    1.2    0.9    16.8    17.1    15.7    14.5   \n",
       "\n",
       "     diff_5  \n",
       "day          \n",
       "6      15.0  \n",
       "7      13.4  \n",
       "8      13.8  \n",
       "9      12.7  \n",
       "10     10.0  \n",
       "..      ...  \n",
       "27     16.1  \n",
       "28     15.8  \n",
       "29     14.3  \n",
       "30     13.8  \n",
       "31     14.9  \n",
       "\n",
       "[3357 rows x 20 columns]"
      ]
     },
     "execution_count": 36,
     "metadata": {},
     "output_type": "execute_result"
    }
   ],
   "source": [
    "df"
   ]
  },
  {
   "cell_type": "code",
   "execution_count": 6,
   "metadata": {},
   "outputs": [
    {
     "data": {
      "text/plain": [
       "min_temp     1.000000\n",
       "min_1        0.974303\n",
       "min_2        0.960598\n",
       "min_3        0.951772\n",
       "min_4        0.945742\n",
       "min_5        0.940240\n",
       "max_3        0.799135\n",
       "max_2        0.798739\n",
       "max_4        0.795439\n",
       "max_1        0.795043\n",
       "max_5        0.793486\n",
       "max_temp     0.777798\n",
       "month        0.169745\n",
       "year         0.008871\n",
       "day          0.002424\n",
       "diff_5      -0.604176\n",
       "diff_4      -0.610730\n",
       "diff_3      -0.618278\n",
       "diff_2      -0.633390\n",
       "diff_1      -0.657850\n",
       "diff_temp   -0.717539\n",
       "Name: min_temp, dtype: float64"
      ]
     },
     "execution_count": 6,
     "metadata": {},
     "output_type": "execute_result"
    }
   ],
   "source": [
    "corr_matrix = df.corr()\n",
    "corr_matrix[\"min_temp\"].sort_values(ascending=False)"
   ]
  },
  {
   "cell_type": "code",
   "execution_count": 25,
   "metadata": {},
   "outputs": [],
   "source": [
    "x = df.drop([\"min_temp\", \"day\", \"month\", \"year\", \"max_temp\", \"diff_temp\",\"diff_1\", \"diff_2\", \"diff_3\", \"diff_4\", \"diff_5\"], axis=1)"
   ]
  },
  {
   "cell_type": "code",
   "execution_count": 26,
   "metadata": {},
   "outputs": [
    {
     "data": {
      "text/plain": [
       "Index(['max_1', 'max_2', 'max_3', 'max_4', 'max_5', 'min_1', 'min_2', 'min_3',\n",
       "       'min_4', 'min_5'],\n",
       "      dtype='object')"
      ]
     },
     "execution_count": 26,
     "metadata": {},
     "output_type": "execute_result"
    }
   ],
   "source": [
    "x.columns"
   ]
  },
  {
   "cell_type": "code",
   "execution_count": 27,
   "metadata": {},
   "outputs": [],
   "source": [
    "y=df[\"min_temp\"]"
   ]
  },
  {
   "cell_type": "code",
   "execution_count": 28,
   "metadata": {},
   "outputs": [
    {
     "data": {
      "text/plain": [
       "(3357, 10)"
      ]
     },
     "execution_count": 28,
     "metadata": {},
     "output_type": "execute_result"
    }
   ],
   "source": [
    "x.shape"
   ]
  },
  {
   "cell_type": "code",
   "execution_count": 29,
   "metadata": {},
   "outputs": [],
   "source": [
    "test_percentage = 0.8\n",
    "test_size = int(df.shape[0]*test_percentage)\n",
    "x_train, x_test , y_train, y_test = x[:test_size], x[test_size:], y[:test_size].to_numpy().ravel(), y[test_size:].to_numpy().ravel()"
   ]
  },
  {
   "cell_type": "code",
   "execution_count": 30,
   "metadata": {},
   "outputs": [
    {
     "name": "stdout",
     "output_type": "stream",
     "text": [
      "Loss: 1.8938744276492436\n"
     ]
    }
   ],
   "source": [
    "from linear_regression  import linearRegression\n",
    "lin_reg = linearRegression(learning_rate=0.0001)\n",
    "w,b,l = lin_reg.fit(x_train, y_train)"
   ]
  },
  {
   "cell_type": "code",
   "execution_count": 31,
   "metadata": {},
   "outputs": [],
   "source": [
    "import matplotlib.pyplot as plt"
   ]
  },
  {
   "cell_type": "code",
   "execution_count": 32,
   "metadata": {},
   "outputs": [],
   "source": [
    "pred = lin_reg.predict(x_test)"
   ]
  },
  {
   "cell_type": "code",
   "execution_count": 33,
   "metadata": {},
   "outputs": [
    {
     "data": {
      "text/plain": [
       "8.662774238384412"
      ]
     },
     "execution_count": 33,
     "metadata": {},
     "output_type": "execute_result"
    }
   ],
   "source": [
    "rms = np.sqrt(np.mean((pred-y_test)**2))\n",
    "rms"
   ]
  },
  {
   "cell_type": "code",
   "execution_count": 17,
   "metadata": {},
   "outputs": [
    {
     "data": {
      "text/plain": [
       "[<matplotlib.lines.Line2D at 0x7f673035a8b0>]"
      ]
     },
     "execution_count": 17,
     "metadata": {},
     "output_type": "execute_result"
    },
    {
     "data": {
      "image/png": "[encoded data removed]",
      "text/plain": [
       "<Figure size 1440x360 with 1 Axes>"
      ]
     },
     "metadata": {
      "needs_background": "light"
     },
     "output_type": "display_data"
    }
   ],
   "source": [
    "plt.figure(figsize=(20,5))\n",
    "plt.plot(y_test)\n",
    "plt.plot(pred, \"r\")"
   ]
  },
  {
   "cell_type": "code",
   "execution_count": 44,
   "metadata": {
    "scrolled": true
   },
   "outputs": [],
   "source": [
    "comp = pd.DataFrame({\"Actual\": y_test.ravel(), \"pred\": pred.ravel()})\n",
    "comp.to_csv(\"Datasets/MinPrediction.csv\")"
   ]
  },
  {
   "cell_type": "code",
   "execution_count": 42,
   "metadata": {},
   "outputs": [
    {
     "data": {
      "text/plain": [
       "['minModel.sav']"
      ]
     },
     "execution_count": 42,
     "metadata": {},
     "output_type": "execute_result"
    }
   ],
   "source": [
    "import joblib\n",
    "file_name = \"minModel.sav\"\n",
    "joblib.dump(lin_reg, file_name)"
   ]
  }
 ],
 "metadata": {
  "kernelspec": {
   "display_name": "Python 3",
   "language": "python",
   "name": "python3"
  },
  "language_info": {
   "codemirror_mode": {
    "name": "ipython",
    "version": 3
   },
   "file_extension": ".py",
   "mimetype": "text/x-python",
   "name": "python",
   "nbconvert_exporter": "python",
   "pygments_lexer": "ipython3",
   "version": "3.8.5"
  }
 },
 "nbformat": 4,
 "nbformat_minor": 4
}
