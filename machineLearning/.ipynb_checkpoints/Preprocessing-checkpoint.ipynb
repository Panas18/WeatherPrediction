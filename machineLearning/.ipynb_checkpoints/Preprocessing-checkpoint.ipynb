{
 "cells": [
  {
   "cell_type": "code",
   "execution_count": 1,
   "metadata": {},
   "outputs": [],
   "source": [
    "#loading required libaries\n",
    "import pandas as pd\n",
    "import numpy as np\n",
    "from sklearn.preprocessing import LabelEncoder"
   ]
  },
  {
   "cell_type": "code",
   "execution_count": 2,
   "metadata": {},
   "outputs": [],
   "source": [
    "#Loading the data\n",
    "data = pd.read_csv(\"/home/panas/Documents/Programming/DataSets/NewYork.csv\")"
   ]
  },
  {
   "cell_type": "code",
   "execution_count": 3,
   "metadata": {
    "scrolled": true
   },
   "outputs": [],
   "source": [
    "#Spliting datetime to date and time\n",
    "\n",
    "new_data = data.copy()\n",
    "new_data[[\"Date\", \"Time\"]] = new_data.datetime.str.split(expand=True)"
   ]
  },
  {
   "cell_type": "code",
   "execution_count": 4,
   "metadata": {},
   "outputs": [],
   "source": [
    "#Split date  and drop datetime\n",
    "\n",
    "new_data[[\"Year\", \"Months\",\"Day\" ]] = new_data.Date.str.split(\"-\", expand = True)\n",
    "new_data = new_data.drop([\"datetime\"], axis = 1)"
   ]
  },
  {
   "cell_type": "code",
   "execution_count": 5,
   "metadata": {
    "scrolled": true
   },
   "outputs": [],
   "source": [
    "#Reindex the dataframe in require order\n",
    "\n",
    "Columns = [\"Year\", \"Months\", \"Day\", 'Time',\n",
    "        \"Temperature\", \"Humidity\", \"Pressure\", \n",
    "        \"Wind Dirn\", \"Win Speed\", \"Weather Description\"]\n",
    "\n",
    "new_data = new_data.reindex(Columns, axis = 1)"
   ]
  },
  {
   "cell_type": "code",
   "execution_count": 6,
   "metadata": {},
   "outputs": [],
   "source": [
    "#Convert kelvin  to celcius\n",
    "new_data[\"Temperature\"]=new_data[\"Temperature\"].apply(lambda x : x-272.15)"
   ]
  },
  {
   "cell_type": "code",
   "execution_count": 7,
   "metadata": {
    "scrolled": false
   },
   "outputs": [],
   "source": [
    "#Create int value for obj value weather description\n",
    "label_encoder = LabelEncoder()\n",
    "new_data[\"Weather Description\"] = label_encoder.fit_transform(new_data[\"Weather Description\"])"
   ]
  },
  {
   "cell_type": "code",
   "execution_count": 8,
   "metadata": {},
   "outputs": [],
   "source": [
    "#from sklearn.preprocessing import OneHotEncoder\n",
    "#hot_encoder = OneHotEncoder()\n",
    "#weather_encoded = hot_encoder.fit_transform(new_data[[\"Weather Description\"]])"
   ]
  },
  {
   "cell_type": "code",
   "execution_count": 9,
   "metadata": {},
   "outputs": [],
   "source": [
    "#Filling empty cells with values\n",
    "for col in Columns[4:]:\n",
    "    new_data[col].fillna(method= \"ffill\", inplace = True)"
   ]
  },
  {
   "cell_type": "code",
   "execution_count": 10,
   "metadata": {},
   "outputs": [],
   "source": [
    "#Grouping the columns value in list\n",
    "\n",
    "def Group(parameter):  \n",
    "    total = []\n",
    "    day = []\n",
    "    for i in range(0,new_data.shape[0]):\n",
    "        today = new_data[\"Day\"][i]\n",
    "        if i == 0:\n",
    "            prev_day = new_data[\"Day\"][i]\n",
    "        else:\n",
    "            prev_day = new_data[\"Day\"][i-1]\n",
    "\n",
    "        if today == prev_day:\n",
    "            temp = new_data[parameter][i]\n",
    "            day.append(round(temp,2))\n",
    "        else:\n",
    "            total.append(day)\n",
    "            day = []\n",
    "            day.append(round(new_data[parameter][i],2))\n",
    "    return total"
   ]
  },
  {
   "cell_type": "code",
   "execution_count": 11,
   "metadata": {
    "scrolled": false
   },
   "outputs": [],
   "source": [
    "Temp = Group(\"Temperature\")\n",
    "Humid = Group(\"Humidity\")\n",
    "Press = Group(\"Pressure\")\n",
    "WindDirn = Group(\"Wind Dirn\")\n",
    "WinSpeed = Group(\"Win Speed\")\n",
    "WeatherDiscpc = Group(\"Weather Description\")\n",
    "parameter_disc = {\n",
    "             \"Temp\": Temp, \n",
    "             \"Humid\": Humid, \n",
    "             \"Press\": Press,\n",
    "             \"WindDirn\": WindDirn, \n",
    "             \"WinSpeed\": WinSpeed,\n",
    "            \"WeatherDiscpc\": WeatherDiscpc\n",
    "            }"
   ]
  },
  {
   "cell_type": "code",
   "execution_count": 12,
   "metadata": {
    "scrolled": true
   },
   "outputs": [],
   "source": [
    "#Keep only one Row per day\n",
    "\n",
    "indexes = []\n",
    "for i in range(1,new_data.shape[0]):\n",
    "    today = new_data[\"Day\"][i]\n",
    "    if i == 0:\n",
    "        prev_day = new_data[\"Day\"][i]\n",
    "    else:\n",
    "        prev_day = new_data[\"Day\"][i-1]\n",
    "    \n",
    "    if today == prev_day:\n",
    "        indexes.append(i)\n",
    "new_data = new_data.drop(indexes)"
   ]
  },
  {
   "cell_type": "code",
   "execution_count": 13,
   "metadata": {},
   "outputs": [],
   "source": [
    "#Drop the time axis\n",
    "\n",
    "new_data = new_data.drop([\"Time\"], axis = 1)\n",
    "df = new_data.copy()\n",
    "df = df.drop(44448)"
   ]
  },
  {
   "cell_type": "code",
   "execution_count": 14,
   "metadata": {},
   "outputs": [],
   "source": [
    " #Calculate Max, Min, Average value of each day of given parameter\n",
    "def maxMin(parameter):\n",
    "    maxm = []\n",
    "    mini = []\n",
    "    avg = []\n",
    "    for col in parameter:\n",
    "        daymax  = []\n",
    "        daymin = []\n",
    "        dayavg = []\n",
    "        if col != WeatherDiscpc:\n",
    "            for day in col:\n",
    "                mx = max(day)\n",
    "                mn = min(day)\n",
    "                ag = sum(day)/len(day)\n",
    "                daymax.append(mx)\n",
    "                daymin.append(mn)\n",
    "                dayavg.append(round(ag,2))\n",
    "            maxm.append(daymax)\n",
    "            mini.append(daymin)\n",
    "            avg.append(dayavg)\n",
    "    return maxm, mini, avg\n",
    "\n",
    "maxm, minm, avg = maxMin(parameter_disc.values())"
   ]
  },
  {
   "cell_type": "code",
   "execution_count": 15,
   "metadata": {},
   "outputs": [],
   "source": [
    "#Adding new column in dataframe\n",
    "\n",
    "df[\"MaxTemp\"] = maxm[0]\n",
    "df[\"AvgTemp\"] = avg[0]\n",
    "df[\"MinTemp\"] = minm[0]\n",
    "\n",
    "df[\"MaxHumid\"] = maxm[1]\n",
    "df[\"MinHumid\"] = minm[1]\n",
    "df[\"AvgHumid\"] = avg[1]\n",
    "\n",
    "df[\"MaxPressure\"] = maxm[2]\n",
    "df[\"AvgPressure\"] = avg[2]\n",
    "df[\"MinPressure\"] = minm[2]\n",
    "\n",
    "df[\"MaxSpeed\"] = maxm[4]\n",
    "df[\"AvgSpeed\"] = avg[4]\n",
    "df[\"MinSpeed\"] = minm[4]\n",
    "\n",
    "df[\"AvgDirn\"] = avg[3]"
   ]
  },
  {
   "cell_type": "code",
   "execution_count": 16,
   "metadata": {
    "scrolled": false
   },
   "outputs": [],
   "source": [
    "#Droping unwanted columns in the dataframe\n",
    "\n",
    "df = df.drop([\"Temperature\", \"Humidity\", \"Pressure\", \"Wind Dirn\", \"Win Speed\", \"Weather Description\"], axis = 1)"
   ]
  },
  {
   "cell_type": "code",
   "execution_count": 17,
   "metadata": {},
   "outputs": [],
   "source": [
    "#Calculate max frequencey of weather description\n",
    "WeatherDescription = []\n",
    "\n",
    "for day in WeatherDiscpc:\n",
    "    high = 0\n",
    "    result = day[0]\n",
    "    for val in day:\n",
    "        freq = day.count(val)\n",
    "        if freq > high:\n",
    "            high = freq\n",
    "            result = val\n",
    "    WeatherDescription.append(result)\n",
    "    \n",
    "df[\"Weather Description\"] = WeatherDescription  "
   ]
  },
  {
   "cell_type": "code",
   "execution_count": 18,
   "metadata": {
    "scrolled": true
   },
   "outputs": [],
   "source": [
    "#Creating new Column in the dataframe\n",
    "def timeValue(par, time):\n",
    "    value = []\n",
    "    for day in par:\n",
    "        for i, val in enumerate(day):\n",
    "            if i == time:\n",
    "                value.append(val)\n",
    "    return value\n",
    "\n",
    "for val in parameter_disc:\n",
    "    hour = [6,12,20]\n",
    "    for i in hour:\n",
    "        col = val +str(i)\n",
    "        df[col] = timeValue(parameter_disc[val], i)\n"
   ]
  },
  {
   "cell_type": "code",
   "execution_count": 19,
   "metadata": {},
   "outputs": [],
   "source": [
    "df.reset_index(inplace = True, drop = True)"
   ]
  },
  {
   "cell_type": "code",
   "execution_count": 20,
   "metadata": {},
   "outputs": [],
   "source": [
    "maxTemp_next = []\n",
    "for temp in df[\"MaxTemp\"][1:]:\n",
    "    maxTemp_next.append(temp)\n",
    "df =df.drop(1851)"
   ]
  },
  {
   "cell_type": "code",
   "execution_count": 21,
   "metadata": {},
   "outputs": [],
   "source": [
    "df[\"maxTemp_next\"] = maxTemp_next"
   ]
  },
  {
   "cell_type": "code",
   "execution_count": 22,
   "metadata": {},
   "outputs": [],
   "source": [
    "df.to_csv(\"DataSets/NewProcessed.csv\")"
   ]
  }
 ],
 "metadata": {
  "kernelspec": {
   "display_name": "Python 3",
   "language": "python",
   "name": "python3"
  },
  "language_info": {
   "codemirror_mode": {
    "name": "ipython",
    "version": 3
   },
   "file_extension": ".py",
   "mimetype": "text/x-python",
   "name": "python",
   "nbconvert_exporter": "python",
   "pygments_lexer": "ipython3",
   "version": "3.8.5"
  }
 },
 "nbformat": 4,
 "nbformat_minor": 4
}
