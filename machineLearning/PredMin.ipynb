{
 "cells": [
  {
   "cell_type": "code",
   "execution_count": 1,
   "metadata": {},
   "outputs": [],
   "source": [
    "import pandas as pd\n",
    "import numpy as np\n",
    "from sklearn.model_selection import cross_val_score\n",
    "import matplotlib.pyplot as plt\n",
    "from sklearn.model_selection import GridSearchCV\n",
    "from sklearn.metrics import mean_squared_error"
   ]
  },
  {
   "cell_type": "code",
   "execution_count": 2,
   "metadata": {},
   "outputs": [],
   "source": [
    "data = pd.read_csv(\"DataSets/NewProcessed.csv\", index_col=0) "
   ]
  },
  {
   "cell_type": "code",
   "execution_count": 3,
   "metadata": {
    "scrolled": true
   },
   "outputs": [
    {
     "data": {
      "text/plain": [
       "minTemp_next           1.000000\n",
       "maxTemp_next           0.944495\n",
       "Temp20                 0.936637\n",
       "AvgTemp                0.935584\n",
       "MaxTemp                0.926435\n",
       "MinTemp                0.920289\n",
       "Temp12                 0.914081\n",
       "Temp6                  0.895482\n",
       "Months                 0.331146\n",
       "Humid6                 0.231488\n",
       "Humid12                0.216861\n",
       "MaxHumid               0.153695\n",
       "AvgHumid               0.121190\n",
       "Year                   0.111452\n",
       "MinHumid               0.047452\n",
       "MinPressure            0.023289\n",
       "Weather Description    0.012442\n",
       "Day                    0.012098\n",
       "WeatherDiscpc12       -0.029860\n",
       "WeatherDiscpc20       -0.034045\n",
       "Humid20               -0.039765\n",
       "Press6                -0.042178\n",
       "WeatherDiscpc6        -0.047353\n",
       "Press12               -0.069621\n",
       "AvgPressure           -0.089943\n",
       "Press20               -0.120269\n",
       "WinSpeed20            -0.166850\n",
       "WindDirn6             -0.168476\n",
       "WindDirn12            -0.174436\n",
       "WindDirn20            -0.214983\n",
       "MinSpeed              -0.216108\n",
       "MaxPressure           -0.249804\n",
       "AvgDirn               -0.269128\n",
       "MaxSpeed              -0.273661\n",
       "WinSpeed6             -0.297368\n",
       "WinSpeed12            -0.308889\n",
       "AvgSpeed              -0.351565\n",
       "Name: minTemp_next, dtype: float64"
      ]
     },
     "execution_count": 3,
     "metadata": {},
     "output_type": "execute_result"
    }
   ],
   "source": [
    "corr_matrix = data.corr()\n",
    "corr_matrix[\"minTemp_next\"].sort_values(ascending=False)"
   ]
  },
  {
   "cell_type": "code",
   "execution_count": 4,
   "metadata": {},
   "outputs": [],
   "source": [
    "data = data[[\"maxTemp_next\",\"minTemp_next\" ,\"Temp20\", \"AvgTemp\", \"MinTemp\", \"Temp12\"\n",
    "            ,\"Temp6\", \"Months\", \"Humid6\", \"Humid12\", \"WindDirn20\", \n",
    "            \"MaxPressure\", \"AvgDirn\",\"MaxSpeed\", \"WinSpeed6\",\"WinSpeed12\", \"AvgSpeed\" ]]"
   ]
  },
  {
   "cell_type": "code",
   "execution_count": 5,
   "metadata": {},
   "outputs": [],
   "source": [
    "y = data[[\"minTemp_next\"]]"
   ]
  },
  {
   "cell_type": "code",
   "execution_count": 6,
   "metadata": {},
   "outputs": [],
   "source": [
    "x = data.drop([\"minTemp_next\"], axis = 1)"
   ]
  },
  {
   "cell_type": "code",
   "execution_count": 7,
   "metadata": {},
   "outputs": [],
   "source": [
    "val = 200\n",
    "trainx = x[:data.shape[0]-val].to_numpy()\n",
    "trainy = y[:data.shape[0]-val].to_numpy().ravel()"
   ]
  },
  {
   "cell_type": "code",
   "execution_count": 8,
   "metadata": {},
   "outputs": [],
   "source": [
    "testx = x[data.shape[0]-val:]\n",
    "testy = y[data.shape[0]-val:]"
   ]
  },
  {
   "cell_type": "code",
   "execution_count": 9,
   "metadata": {},
   "outputs": [],
   "source": [
    "testx.to_csv(\"minData/testx.csv\")\n",
    "testy.to_csv(\"minData/testy.csv\")\n",
    "testx = testx.to_numpy()\n",
    "testy = testy.to_numpy().ravel()"
   ]
  },
  {
   "cell_type": "markdown",
   "metadata": {},
   "source": [
    "### Linear regression Algorithm"
   ]
  },
  {
   "cell_type": "code",
   "execution_count": 10,
   "metadata": {},
   "outputs": [
    {
     "data": {
      "text/plain": [
       "GridSearchCV(cv=10, estimator=LinearRegression(),\n",
       "             param_grid=[{'fit_intercept': [True, False],\n",
       "                          'n_jobs': [1, 2, 3, 4, 5],\n",
       "                          'normalize': [True, False]}])"
      ]
     },
     "execution_count": 10,
     "metadata": {},
     "output_type": "execute_result"
    }
   ],
   "source": [
    "from sklearn.linear_model import LinearRegression\n",
    "lin_reg = LinearRegression()\n",
    "linear_paramn= [\n",
    "    {\"fit_intercept\":[True, False],\n",
    "    'normalize':[True, False],\n",
    "     'n_jobs': [1,2,3,4,5]\n",
    "    }\n",
    "]\n",
    "grid_linear = GridSearchCV(lin_reg, linear_paramn, cv=10)\n",
    "grid_linear.fit(trainx, trainy)"
   ]
  },
  {
   "cell_type": "code",
   "execution_count": 11,
   "metadata": {
    "scrolled": true
   },
   "outputs": [
    {
     "data": {
      "text/plain": [
       "LinearRegression(fit_intercept=False, n_jobs=1, normalize=True)"
      ]
     },
     "execution_count": 11,
     "metadata": {},
     "output_type": "execute_result"
    }
   ],
   "source": [
    "grid_linear.best_estimator_"
   ]
  },
  {
   "cell_type": "code",
   "execution_count": 12,
   "metadata": {},
   "outputs": [],
   "source": [
    "lin_reg = LinearRegression(n_jobs=1, normalize=True)\n",
    "lin_reg.fit(trainx, trainy)\n",
    "pred_linearReg = lin_reg.predict(testx)"
   ]
  },
  {
   "cell_type": "code",
   "execution_count": 13,
   "metadata": {},
   "outputs": [
    {
     "data": {
      "text/plain": [
       "2.271786658721774"
      ]
     },
     "execution_count": 13,
     "metadata": {},
     "output_type": "execute_result"
    }
   ],
   "source": [
    "lin_mse=mean_squared_error(pred_linearReg, testy)\n",
    "lin_rmse=np.sqrt(lin_mse)\n",
    "lin_rmse"
   ]
  },
  {
   "cell_type": "code",
   "execution_count": 14,
   "metadata": {},
   "outputs": [
    {
     "data": {
      "text/plain": [
       "0.7832591529231097"
      ]
     },
     "execution_count": 14,
     "metadata": {},
     "output_type": "execute_result"
    }
   ],
   "source": [
    "lin_reg.score(testx, testy)"
   ]
  },
  {
   "cell_type": "code",
   "execution_count": 15,
   "metadata": {
    "scrolled": true
   },
   "outputs": [
    {
     "data": {
      "text/plain": [
       "0.93284336695902"
      ]
     },
     "execution_count": 15,
     "metadata": {},
     "output_type": "execute_result"
    }
   ],
   "source": [
    "lin_reg.score(trainx, trainy)"
   ]
  },
  {
   "cell_type": "code",
   "execution_count": 16,
   "metadata": {},
   "outputs": [],
   "source": [
    "lin_reg_scores = cross_val_score(lin_reg,trainx, trainy, scoring=\"neg_mean_squared_error\", cv=10)\n",
    "lin_reg_scores_rmse = np.sqrt(-lin_reg_scores)"
   ]
  },
  {
   "cell_type": "code",
   "execution_count": 17,
   "metadata": {},
   "outputs": [],
   "source": [
    "def display_score(scores):\n",
    "    print(\"Scores:\", scores)\n",
    "    print(\"Mean:\",scores.mean())\n",
    "    print(\"Standard Devidation:\",scores.std())"
   ]
  },
  {
   "cell_type": "code",
   "execution_count": 18,
   "metadata": {},
   "outputs": [
    {
     "name": "stdout",
     "output_type": "stream",
     "text": [
      "Scores: [2.41320412 2.08678298 3.19943241 2.43921514 2.34018032 3.00898955\n",
      " 2.24720641 2.51300489 2.39640048 2.65036249]\n",
      "Mean: 2.5294778776618685\n",
      "Standard Devidation: 0.3231905056074899\n"
     ]
    }
   ],
   "source": [
    "display_score(lin_reg_scores_rmse)"
   ]
  },
  {
   "cell_type": "code",
   "execution_count": 19,
   "metadata": {
    "scrolled": true
   },
   "outputs": [
    {
     "data": {
      "text/plain": [
       "[<matplotlib.lines.Line2D at 0x7fc3a5cc8f10>]"
      ]
     },
     "execution_count": 19,
     "metadata": {},
     "output_type": "execute_result"
    },
    {
     "data": {
      "image/png": "[encoded data removed]",
      "text/plain": [
       "<Figure size 432x288 with 1 Axes>"
      ]
     },
     "metadata": {
      "needs_background": "light"
     },
     "output_type": "display_data"
    }
   ],
   "source": [
    "plt.plot(pred_linearReg, \"r\")\n",
    "plt.plot(testy)"
   ]
  },
  {
   "cell_type": "code",
   "execution_count": 20,
   "metadata": {},
   "outputs": [
    {
     "ename": "TypeError",
     "evalue": "dump() missing 1 required positional argument: 'filename'",
     "output_type": "error",
     "traceback": [
      "\u001b[0;31m---------------------------------------------------------------------------\u001b[0m",
      "\u001b[0;31mTypeError\u001b[0m                                 Traceback (most recent call last)",
      "\u001b[0;32m<ipython-input-20-17cbd739ac5f>\u001b[0m in \u001b[0;36m<module>\u001b[0;34m\u001b[0m\n\u001b[1;32m      1\u001b[0m \u001b[0;32mimport\u001b[0m \u001b[0mjoblib\u001b[0m\u001b[0;34m\u001b[0m\u001b[0;34m\u001b[0m\u001b[0m\n\u001b[1;32m      2\u001b[0m \u001b[0mfile_name\u001b[0m \u001b[0;34m=\u001b[0m \u001b[0;34m\"minModel.sav\"\u001b[0m\u001b[0;34m\u001b[0m\u001b[0;34m\u001b[0m\u001b[0m\n\u001b[0;32m----> 3\u001b[0;31m \u001b[0mjoblib\u001b[0m\u001b[0;34m.\u001b[0m\u001b[0mdump\u001b[0m\u001b[0;34m(\u001b[0m\u001b[0mlin_reg\u001b[0m\u001b[0;34m,\u001b[0m\u001b[0;34m)\u001b[0m\u001b[0;34m\u001b[0m\u001b[0;34m\u001b[0m\u001b[0m\n\u001b[0m",
      "\u001b[0;31mTypeError\u001b[0m: dump() missing 1 required positional argument: 'filename'"
     ]
    }
   ],
   "source": [
    "import joblib\n",
    "file_name = \"minModel.sav\"\n",
    "joblib.dump(lin_reg,)"
   ]
  }
 ],
 "metadata": {
  "kernelspec": {
   "display_name": "Python 3",
   "language": "python",
   "name": "python3"
  },
  "language_info": {
   "codemirror_mode": {
    "name": "ipython",
    "version": 3
   },
   "file_extension": ".py",
   "mimetype": "text/x-python",
   "name": "python",
   "nbconvert_exporter": "python",
   "pygments_lexer": "ipython3",
   "version": "3.8.5"
  }
 },
 "nbformat": 4,
 "nbformat_minor": 4
}
