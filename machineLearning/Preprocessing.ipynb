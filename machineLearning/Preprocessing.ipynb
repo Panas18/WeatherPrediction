{
 "cells": [
  {
   "cell_type": "code",
   "execution_count": 1,
   "metadata": {},
   "outputs": [],
   "source": [
    "#loading required libaries\n",
    "import pandas as pd\n",
    "import numpy as np\n",
    "from sklearn.preprocessing import LabelEncoder"
   ]
  },
  {
   "cell_type": "code",
   "execution_count": 2,
   "metadata": {},
   "outputs": [],
   "source": [
    "#Loading the data\n",
    "data = pd.read_csv(\"/home/panas/Documents/Programming/DataSets/NewYork.csv\")"
   ]
  },
  {
   "cell_type": "code",
   "execution_count": 3,
   "metadata": {},
   "outputs": [
    {
     "data": {
      "text/plain": [
       "Index(['datetime', 'Humidity', 'Pressure', 'Temperature',\n",
       "       'Weather Description', 'Wind Dirn', 'Win Speed'],\n",
       "      dtype='object')"
      ]
     },
     "execution_count": 3,
     "metadata": {},
     "output_type": "execute_result"
    }
   ],
   "source": [
    "data.columns"
   ]
  },
  {
   "cell_type": "code",
   "execution_count": 3,
   "metadata": {},
   "outputs": [
    {
     "data": {
      "text/html": [
       "<div>\n",
       "<style scoped>\n",
       "    .dataframe tbody tr th:only-of-type {\n",
       "        vertical-align: middle;\n",
       "    }\n",
       "\n",
       "    .dataframe tbody tr th {\n",
       "        vertical-align: top;\n",
       "    }\n",
       "\n",
       "    .dataframe thead th {\n",
       "        text-align: right;\n",
       "    }\n",
       "</style>\n",
       "<table border=\"1\" class=\"dataframe\">\n",
       "  <thead>\n",
       "    <tr style=\"text-align: right;\">\n",
       "      <th></th>\n",
       "      <th>datetime</th>\n",
       "      <th>Humidity</th>\n",
       "      <th>Pressure</th>\n",
       "      <th>Temperature</th>\n",
       "      <th>Weather Description</th>\n",
       "      <th>Wind Dirn</th>\n",
       "      <th>Win Speed</th>\n",
       "    </tr>\n",
       "  </thead>\n",
       "  <tbody>\n",
       "    <tr>\n",
       "      <th>0</th>\n",
       "      <td>2012-10-02 00:00:00</td>\n",
       "      <td>55.0</td>\n",
       "      <td>1012.0</td>\n",
       "      <td>289.040311</td>\n",
       "      <td>few clouds</td>\n",
       "      <td>264</td>\n",
       "      <td>6</td>\n",
       "    </tr>\n",
       "    <tr>\n",
       "      <th>1</th>\n",
       "      <td>2012-10-02 01:00:00</td>\n",
       "      <td>54.0</td>\n",
       "      <td>1012.0</td>\n",
       "      <td>289.119575</td>\n",
       "      <td>few clouds</td>\n",
       "      <td>264</td>\n",
       "      <td>6</td>\n",
       "    </tr>\n",
       "    <tr>\n",
       "      <th>2</th>\n",
       "      <td>2012-10-02 02:00:00</td>\n",
       "      <td>54.0</td>\n",
       "      <td>1012.0</td>\n",
       "      <td>289.198838</td>\n",
       "      <td>few clouds</td>\n",
       "      <td>265</td>\n",
       "      <td>6</td>\n",
       "    </tr>\n",
       "    <tr>\n",
       "      <th>3</th>\n",
       "      <td>2012-10-02 03:00:00</td>\n",
       "      <td>54.0</td>\n",
       "      <td>1012.0</td>\n",
       "      <td>289.278102</td>\n",
       "      <td>few clouds</td>\n",
       "      <td>265</td>\n",
       "      <td>6</td>\n",
       "    </tr>\n",
       "    <tr>\n",
       "      <th>4</th>\n",
       "      <td>2012-10-02 04:00:00</td>\n",
       "      <td>53.0</td>\n",
       "      <td>1012.0</td>\n",
       "      <td>289.357365</td>\n",
       "      <td>few clouds</td>\n",
       "      <td>265</td>\n",
       "      <td>6</td>\n",
       "    </tr>\n",
       "  </tbody>\n",
       "</table>\n",
       "</div>"
      ],
      "text/plain": [
       "              datetime  Humidity  Pressure  Temperature Weather Description  \\\n",
       "0  2012-10-02 00:00:00      55.0    1012.0   289.040311          few clouds   \n",
       "1  2012-10-02 01:00:00      54.0    1012.0   289.119575          few clouds   \n",
       "2  2012-10-02 02:00:00      54.0    1012.0   289.198838          few clouds   \n",
       "3  2012-10-02 03:00:00      54.0    1012.0   289.278102          few clouds   \n",
       "4  2012-10-02 04:00:00      53.0    1012.0   289.357365          few clouds   \n",
       "\n",
       "   Wind Dirn  Win Speed  \n",
       "0        264          6  \n",
       "1        264          6  \n",
       "2        265          6  \n",
       "3        265          6  \n",
       "4        265          6  "
      ]
     },
     "execution_count": 3,
     "metadata": {},
     "output_type": "execute_result"
    }
   ],
   "source": [
    "data.head()"
   ]
  },
  {
   "cell_type": "code",
   "execution_count": 4,
   "metadata": {
    "scrolled": true
   },
   "outputs": [],
   "source": [
    "#Spliting datetime to date and time\n",
    "new_data = data.copy()\n",
    "new_data[[\"Date\", \"Time\"]] = new_data.datetime.str.split(expand=True)"
   ]
  },
  {
   "cell_type": "code",
   "execution_count": 5,
   "metadata": {},
   "outputs": [
    {
     "data": {
      "text/html": [
       "<div>\n",
       "<style scoped>\n",
       "    .dataframe tbody tr th:only-of-type {\n",
       "        vertical-align: middle;\n",
       "    }\n",
       "\n",
       "    .dataframe tbody tr th {\n",
       "        vertical-align: top;\n",
       "    }\n",
       "\n",
       "    .dataframe thead th {\n",
       "        text-align: right;\n",
       "    }\n",
       "</style>\n",
       "<table border=\"1\" class=\"dataframe\">\n",
       "  <thead>\n",
       "    <tr style=\"text-align: right;\">\n",
       "      <th></th>\n",
       "      <th>datetime</th>\n",
       "      <th>Humidity</th>\n",
       "      <th>Pressure</th>\n",
       "      <th>Temperature</th>\n",
       "      <th>Weather Description</th>\n",
       "      <th>Wind Dirn</th>\n",
       "      <th>Win Speed</th>\n",
       "      <th>Date</th>\n",
       "      <th>Time</th>\n",
       "    </tr>\n",
       "  </thead>\n",
       "  <tbody>\n",
       "    <tr>\n",
       "      <th>0</th>\n",
       "      <td>2012-10-02 00:00:00</td>\n",
       "      <td>55.0</td>\n",
       "      <td>1012.0</td>\n",
       "      <td>289.040311</td>\n",
       "      <td>few clouds</td>\n",
       "      <td>264</td>\n",
       "      <td>6</td>\n",
       "      <td>2012-10-02</td>\n",
       "      <td>00:00:00</td>\n",
       "    </tr>\n",
       "    <tr>\n",
       "      <th>1</th>\n",
       "      <td>2012-10-02 01:00:00</td>\n",
       "      <td>54.0</td>\n",
       "      <td>1012.0</td>\n",
       "      <td>289.119575</td>\n",
       "      <td>few clouds</td>\n",
       "      <td>264</td>\n",
       "      <td>6</td>\n",
       "      <td>2012-10-02</td>\n",
       "      <td>01:00:00</td>\n",
       "    </tr>\n",
       "    <tr>\n",
       "      <th>2</th>\n",
       "      <td>2012-10-02 02:00:00</td>\n",
       "      <td>54.0</td>\n",
       "      <td>1012.0</td>\n",
       "      <td>289.198838</td>\n",
       "      <td>few clouds</td>\n",
       "      <td>265</td>\n",
       "      <td>6</td>\n",
       "      <td>2012-10-02</td>\n",
       "      <td>02:00:00</td>\n",
       "    </tr>\n",
       "    <tr>\n",
       "      <th>3</th>\n",
       "      <td>2012-10-02 03:00:00</td>\n",
       "      <td>54.0</td>\n",
       "      <td>1012.0</td>\n",
       "      <td>289.278102</td>\n",
       "      <td>few clouds</td>\n",
       "      <td>265</td>\n",
       "      <td>6</td>\n",
       "      <td>2012-10-02</td>\n",
       "      <td>03:00:00</td>\n",
       "    </tr>\n",
       "    <tr>\n",
       "      <th>4</th>\n",
       "      <td>2012-10-02 04:00:00</td>\n",
       "      <td>53.0</td>\n",
       "      <td>1012.0</td>\n",
       "      <td>289.357365</td>\n",
       "      <td>few clouds</td>\n",
       "      <td>265</td>\n",
       "      <td>6</td>\n",
       "      <td>2012-10-02</td>\n",
       "      <td>04:00:00</td>\n",
       "    </tr>\n",
       "  </tbody>\n",
       "</table>\n",
       "</div>"
      ],
      "text/plain": [
       "              datetime  Humidity  Pressure  Temperature Weather Description  \\\n",
       "0  2012-10-02 00:00:00      55.0    1012.0   289.040311          few clouds   \n",
       "1  2012-10-02 01:00:00      54.0    1012.0   289.119575          few clouds   \n",
       "2  2012-10-02 02:00:00      54.0    1012.0   289.198838          few clouds   \n",
       "3  2012-10-02 03:00:00      54.0    1012.0   289.278102          few clouds   \n",
       "4  2012-10-02 04:00:00      53.0    1012.0   289.357365          few clouds   \n",
       "\n",
       "   Wind Dirn  Win Speed        Date      Time  \n",
       "0        264          6  2012-10-02  00:00:00  \n",
       "1        264          6  2012-10-02  01:00:00  \n",
       "2        265          6  2012-10-02  02:00:00  \n",
       "3        265          6  2012-10-02  03:00:00  \n",
       "4        265          6  2012-10-02  04:00:00  "
      ]
     },
     "execution_count": 5,
     "metadata": {},
     "output_type": "execute_result"
    }
   ],
   "source": [
    "new_data.head()"
   ]
  },
  {
   "cell_type": "code",
   "execution_count": 6,
   "metadata": {},
   "outputs": [],
   "source": [
    "#Split date  and drop datetime\n",
    "new_data[[\"Year\", \"Months\",\"Day\" ]] = new_data.Date.str.split(\"-\", expand = True)\n",
    "new_data = new_data.drop([\"datetime\"], axis = 1)"
   ]
  },
  {
   "cell_type": "code",
   "execution_count": 7,
   "metadata": {
    "scrolled": true
   },
   "outputs": [],
   "source": [
    "#Reindex the dataframe in require order\n",
    "\n",
    "Columns = [\"Year\", \"Months\", \"Day\", 'Time',\n",
    "        \"Temperature\", \"Humidity\", \"Pressure\", \n",
    "        \"Wind Dirn\", \"Win Speed\", \"Weather Description\"]\n",
    "\n",
    "new_data = new_data.reindex(Columns, axis = 1)"
   ]
  },
  {
   "cell_type": "code",
   "execution_count": 8,
   "metadata": {},
   "outputs": [],
   "source": [
    "#Convert kelvin  to celcius\n",
    "new_data[\"Temperature\"]=new_data[\"Temperature\"].apply(lambda x : x-272.15)"
   ]
  },
  {
   "cell_type": "code",
   "execution_count": 9,
   "metadata": {
    "scrolled": false
   },
   "outputs": [],
   "source": [
    "#Create int value for obj value weather description\n",
    "label_encoder = LabelEncoder()\n",
    "new_data[\"Weather Description\"] = label_encoder.fit_transform(new_data[\"Weather Description\"])"
   ]
  },
  {
   "cell_type": "code",
   "execution_count": 10,
   "metadata": {},
   "outputs": [],
   "source": [
    "#from sklearn.preprocessing import OneHotEncoder\n",
    "#hot_encoder = OneHotEncoder()\n",
    "#weather_encoded = hot_encoder.fit_transform(new_data[[\"Weather Description\"]])"
   ]
  },
  {
   "cell_type": "code",
   "execution_count": 11,
   "metadata": {},
   "outputs": [],
   "source": [
    "#Filling empty cells with values\n",
    "for col in Columns[4:]:\n",
    "    new_data[col].fillna(method= \"ffill\", inplace = True)"
   ]
  },
  {
   "cell_type": "code",
   "execution_count": 12,
   "metadata": {},
   "outputs": [],
   "source": [
    "#Grouping the columns value in list\n",
    "\n",
    "def Group(parameter):  \n",
    "    total = []\n",
    "    day = []\n",
    "    for i in range(0,new_data.shape[0]):\n",
    "        today = new_data[\"Day\"][i]\n",
    "        if i == 0:\n",
    "            prev_day = new_data[\"Day\"][i]\n",
    "        else:\n",
    "            prev_day = new_data[\"Day\"][i-1]\n",
    "\n",
    "        if today == prev_day:\n",
    "            temp = new_data[parameter][i]\n",
    "            day.append(round(temp,2))\n",
    "        else:\n",
    "            total.append(day)\n",
    "            day = []\n",
    "            day.append(round(new_data[parameter][i],2))\n",
    "    return total"
   ]
  },
  {
   "cell_type": "code",
   "execution_count": 13,
   "metadata": {
    "scrolled": false
   },
   "outputs": [],
   "source": [
    "Temp = Group(\"Temperature\")\n",
    "Humid = Group(\"Humidity\")\n",
    "Press = Group(\"Pressure\")\n",
    "WindDirn = Group(\"Wind Dirn\")\n",
    "WinSpeed = Group(\"Win Speed\")\n",
    "WeatherDiscpc = Group(\"Weather Description\")\n",
    "parameter_disc = {\n",
    "             \"Temp\": Temp, \n",
    "             \"Humid\": Humid, \n",
    "             \"Press\": Press,\n",
    "             \"WindDirn\": WindDirn, \n",
    "             \"WinSpeed\": WinSpeed,\n",
    "            \"WeatherDiscpc\": WeatherDiscpc\n",
    "            }"
   ]
  },
  {
   "cell_type": "code",
   "execution_count": 14,
   "metadata": {
    "scrolled": true
   },
   "outputs": [],
   "source": [
    "#Keep only one Row per day\n",
    "\n",
    "indexes = []\n",
    "for i in range(1,new_data.shape[0]):\n",
    "    today = new_data[\"Day\"][i]\n",
    "    if i == 0:\n",
    "        prev_day = new_data[\"Day\"][i]\n",
    "    else:\n",
    "        prev_day = new_data[\"Day\"][i-1]\n",
    "    \n",
    "    if today == prev_day:\n",
    "        indexes.append(i)\n",
    "new_data = new_data.drop(indexes)"
   ]
  },
  {
   "cell_type": "code",
   "execution_count": 15,
   "metadata": {},
   "outputs": [],
   "source": [
    "#Drop the time axis\n",
    "\n",
    "new_data = new_data.drop([\"Time\"], axis = 1)\n",
    "df = new_data.copy()\n",
    "df = df.drop(44448)"
   ]
  },
  {
   "cell_type": "code",
   "execution_count": 16,
   "metadata": {},
   "outputs": [],
   "source": [
    " #Calculate Max, Min, Average value of each day of given parameter\n",
    "def maxMin(parameter):\n",
    "    maxm = []\n",
    "    mini = []\n",
    "    avg = []\n",
    "    for col in parameter:\n",
    "        daymax  = []\n",
    "        daymin = []\n",
    "        dayavg = []\n",
    "        if col != WeatherDiscpc:\n",
    "            for day in col:\n",
    "                mx = max(day)\n",
    "                mn = min(day)\n",
    "                ag = sum(day)/len(day)\n",
    "                daymax.append(mx)\n",
    "                daymin.append(mn)\n",
    "                dayavg.append(round(ag,2))\n",
    "            maxm.append(daymax)\n",
    "            mini.append(daymin)\n",
    "            avg.append(dayavg)\n",
    "    return maxm, mini, avg\n",
    "\n",
    "maxm, minm, avg = maxMin(parameter_disc.values())"
   ]
  },
  {
   "cell_type": "code",
   "execution_count": 17,
   "metadata": {},
   "outputs": [],
   "source": [
    "#Adding new column in dataframe\n",
    "\n",
    "df[\"MaxTemp\"] = maxm[0]\n",
    "df[\"AvgTemp\"] = avg[0]\n",
    "df[\"MinTemp\"] = minm[0]\n",
    "\n",
    "df[\"MaxHumid\"] = maxm[1]\n",
    "df[\"MinHumid\"] = minm[1]\n",
    "df[\"AvgHumid\"] = avg[1]\n",
    "\n",
    "df[\"MaxPressure\"] = maxm[2]\n",
    "df[\"AvgPressure\"] = avg[2]\n",
    "df[\"MinPressure\"] = minm[2]\n",
    "\n",
    "df[\"MaxSpeed\"] = maxm[4]\n",
    "df[\"AvgSpeed\"] = avg[4]\n",
    "df[\"MinSpeed\"] = minm[4]\n",
    "\n",
    "df[\"AvgDirn\"] = avg[3]"
   ]
  },
  {
   "cell_type": "code",
   "execution_count": 18,
   "metadata": {
    "scrolled": false
   },
   "outputs": [],
   "source": [
    "#Droping unwanted columns in the dataframe\n",
    "\n",
    "df = df.drop([\"Temperature\", \"Humidity\", \"Pressure\", \"Wind Dirn\", \"Win Speed\", \"Weather Description\"], axis = 1)"
   ]
  },
  {
   "cell_type": "code",
   "execution_count": 19,
   "metadata": {},
   "outputs": [],
   "source": [
    "#Calculate max frequencey of weather description\n",
    "WeatherDescription = []\n",
    "\n",
    "for day in WeatherDiscpc:\n",
    "    high = 0\n",
    "    result = day[0]\n",
    "    for val in day:\n",
    "        freq = day.count(val)\n",
    "        if freq > high:\n",
    "            high = freq\n",
    "            result = val\n",
    "    WeatherDescription.append(result)\n",
    "    \n",
    "df[\"Weather Description\"] = WeatherDescription  "
   ]
  },
  {
   "cell_type": "code",
   "execution_count": 20,
   "metadata": {
    "scrolled": true
   },
   "outputs": [],
   "source": [
    "#Creating new Column in the dataframe\n",
    "def timeValue(par, time):\n",
    "    value = []\n",
    "    for day in par:\n",
    "        for i, val in enumerate(day):\n",
    "            if i == time:\n",
    "                value.append(val)\n",
    "    return value\n",
    "\n",
    "for val in parameter_disc:\n",
    "    hour = [6,12,20]\n",
    "    for i in hour:\n",
    "        col = val +str(i)\n",
    "        df[col] = timeValue(parameter_disc[val], i)\n"
   ]
  },
  {
   "cell_type": "code",
   "execution_count": 21,
   "metadata": {},
   "outputs": [],
   "source": [
    "df.reset_index(inplace = True, drop = True)"
   ]
  },
  {
   "cell_type": "code",
   "execution_count": 22,
   "metadata": {},
   "outputs": [],
   "source": [
    "maxTemp_next = []\n",
    "minTemp_next = []\n",
    "for temp in zip(df[\"MaxTemp\"][1:], df[\"MinTemp\"][1:]):\n",
    "    maxTemp_next.append(temp[0])\n",
    "    minTemp_next.append(temp[1])\n",
    "    \n",
    "df =df.drop(1851)"
   ]
  },
  {
   "cell_type": "code",
   "execution_count": 23,
   "metadata": {},
   "outputs": [],
   "source": [
    "df[\"maxTemp_next\"], df[\"minTemp_next\"] = maxTemp_next, minTemp_next"
   ]
  },
  {
   "cell_type": "code",
   "execution_count": 24,
   "metadata": {},
   "outputs": [],
   "source": [
    "df.to_csv(\"DataSets/NewProcessed.csv\")"
   ]
  },
  {
   "cell_type": "code",
   "execution_count": 25,
   "metadata": {
    "scrolled": true
   },
   "outputs": [
    {
     "data": {
      "text/html": [
       "<div>\n",
       "<style scoped>\n",
       "    .dataframe tbody tr th:only-of-type {\n",
       "        vertical-align: middle;\n",
       "    }\n",
       "\n",
       "    .dataframe tbody tr th {\n",
       "        vertical-align: top;\n",
       "    }\n",
       "\n",
       "    .dataframe thead th {\n",
       "        text-align: right;\n",
       "    }\n",
       "</style>\n",
       "<table border=\"1\" class=\"dataframe\">\n",
       "  <thead>\n",
       "    <tr style=\"text-align: right;\">\n",
       "      <th></th>\n",
       "      <th>Year</th>\n",
       "      <th>Months</th>\n",
       "      <th>Day</th>\n",
       "      <th>MaxTemp</th>\n",
       "      <th>AvgTemp</th>\n",
       "      <th>MinTemp</th>\n",
       "      <th>MaxHumid</th>\n",
       "      <th>MinHumid</th>\n",
       "      <th>AvgHumid</th>\n",
       "      <th>MaxPressure</th>\n",
       "      <th>...</th>\n",
       "      <th>WindDirn12</th>\n",
       "      <th>WindDirn20</th>\n",
       "      <th>WinSpeed6</th>\n",
       "      <th>WinSpeed12</th>\n",
       "      <th>WinSpeed20</th>\n",
       "      <th>WeatherDiscpc6</th>\n",
       "      <th>WeatherDiscpc12</th>\n",
       "      <th>WeatherDiscpc20</th>\n",
       "      <th>maxTemp_next</th>\n",
       "      <th>minTemp_next</th>\n",
       "    </tr>\n",
       "  </thead>\n",
       "  <tbody>\n",
       "    <tr>\n",
       "      <th>0</th>\n",
       "      <td>2012</td>\n",
       "      <td>10</td>\n",
       "      <td>02</td>\n",
       "      <td>22.70</td>\n",
       "      <td>18.74</td>\n",
       "      <td>16.89</td>\n",
       "      <td>55.0</td>\n",
       "      <td>43.0</td>\n",
       "      <td>50.50</td>\n",
       "      <td>1013.0</td>\n",
       "      <td>...</td>\n",
       "      <td>269</td>\n",
       "      <td>240</td>\n",
       "      <td>6</td>\n",
       "      <td>5</td>\n",
       "      <td>5</td>\n",
       "      <td>3</td>\n",
       "      <td>3</td>\n",
       "      <td>24</td>\n",
       "      <td>20.73</td>\n",
       "      <td>16.39</td>\n",
       "    </tr>\n",
       "    <tr>\n",
       "      <th>1</th>\n",
       "      <td>2012</td>\n",
       "      <td>10</td>\n",
       "      <td>03</td>\n",
       "      <td>20.73</td>\n",
       "      <td>17.92</td>\n",
       "      <td>16.39</td>\n",
       "      <td>100.0</td>\n",
       "      <td>46.0</td>\n",
       "      <td>68.54</td>\n",
       "      <td>1017.0</td>\n",
       "      <td>...</td>\n",
       "      <td>80</td>\n",
       "      <td>60</td>\n",
       "      <td>3</td>\n",
       "      <td>1</td>\n",
       "      <td>4</td>\n",
       "      <td>0</td>\n",
       "      <td>18</td>\n",
       "      <td>1</td>\n",
       "      <td>23.12</td>\n",
       "      <td>17.97</td>\n",
       "    </tr>\n",
       "    <tr>\n",
       "      <th>2</th>\n",
       "      <td>2012</td>\n",
       "      <td>10</td>\n",
       "      <td>04</td>\n",
       "      <td>23.12</td>\n",
       "      <td>19.84</td>\n",
       "      <td>17.97</td>\n",
       "      <td>100.0</td>\n",
       "      <td>83.0</td>\n",
       "      <td>95.00</td>\n",
       "      <td>1018.0</td>\n",
       "      <td>...</td>\n",
       "      <td>30</td>\n",
       "      <td>40</td>\n",
       "      <td>3</td>\n",
       "      <td>2</td>\n",
       "      <td>3</td>\n",
       "      <td>4</td>\n",
       "      <td>16</td>\n",
       "      <td>16</td>\n",
       "      <td>24.12</td>\n",
       "      <td>19.43</td>\n",
       "    </tr>\n",
       "    <tr>\n",
       "      <th>3</th>\n",
       "      <td>2012</td>\n",
       "      <td>10</td>\n",
       "      <td>05</td>\n",
       "      <td>24.12</td>\n",
       "      <td>21.89</td>\n",
       "      <td>19.43</td>\n",
       "      <td>100.0</td>\n",
       "      <td>78.0</td>\n",
       "      <td>93.04</td>\n",
       "      <td>1020.0</td>\n",
       "      <td>...</td>\n",
       "      <td>0</td>\n",
       "      <td>160</td>\n",
       "      <td>0</td>\n",
       "      <td>0</td>\n",
       "      <td>3</td>\n",
       "      <td>4</td>\n",
       "      <td>4</td>\n",
       "      <td>6</td>\n",
       "      <td>27.63</td>\n",
       "      <td>15.63</td>\n",
       "    </tr>\n",
       "    <tr>\n",
       "      <th>4</th>\n",
       "      <td>2012</td>\n",
       "      <td>10</td>\n",
       "      <td>06</td>\n",
       "      <td>27.63</td>\n",
       "      <td>20.80</td>\n",
       "      <td>15.63</td>\n",
       "      <td>100.0</td>\n",
       "      <td>39.0</td>\n",
       "      <td>71.04</td>\n",
       "      <td>1018.0</td>\n",
       "      <td>...</td>\n",
       "      <td>290</td>\n",
       "      <td>260</td>\n",
       "      <td>2</td>\n",
       "      <td>1</td>\n",
       "      <td>2</td>\n",
       "      <td>4</td>\n",
       "      <td>16</td>\n",
       "      <td>3</td>\n",
       "      <td>25.69</td>\n",
       "      <td>15.86</td>\n",
       "    </tr>\n",
       "  </tbody>\n",
       "</table>\n",
       "<p>5 rows × 37 columns</p>\n",
       "</div>"
      ],
      "text/plain": [
       "   Year Months Day  MaxTemp  AvgTemp  MinTemp  MaxHumid  MinHumid  AvgHumid  \\\n",
       "0  2012     10  02    22.70    18.74    16.89      55.0      43.0     50.50   \n",
       "1  2012     10  03    20.73    17.92    16.39     100.0      46.0     68.54   \n",
       "2  2012     10  04    23.12    19.84    17.97     100.0      83.0     95.00   \n",
       "3  2012     10  05    24.12    21.89    19.43     100.0      78.0     93.04   \n",
       "4  2012     10  06    27.63    20.80    15.63     100.0      39.0     71.04   \n",
       "\n",
       "   MaxPressure  ...  WindDirn12  WindDirn20  WinSpeed6  WinSpeed12  \\\n",
       "0       1013.0  ...         269         240          6           5   \n",
       "1       1017.0  ...          80          60          3           1   \n",
       "2       1018.0  ...          30          40          3           2   \n",
       "3       1020.0  ...           0         160          0           0   \n",
       "4       1018.0  ...         290         260          2           1   \n",
       "\n",
       "   WinSpeed20  WeatherDiscpc6  WeatherDiscpc12  WeatherDiscpc20  maxTemp_next  \\\n",
       "0           5               3                3               24         20.73   \n",
       "1           4               0               18                1         23.12   \n",
       "2           3               4               16               16         24.12   \n",
       "3           3               4                4                6         27.63   \n",
       "4           2               4               16                3         25.69   \n",
       "\n",
       "   minTemp_next  \n",
       "0         16.39  \n",
       "1         17.97  \n",
       "2         19.43  \n",
       "3         15.63  \n",
       "4         15.86  \n",
       "\n",
       "[5 rows x 37 columns]"
      ]
     },
     "execution_count": 25,
     "metadata": {},
     "output_type": "execute_result"
    }
   ],
   "source": [
    "df.head()"
   ]
  },
  {
   "cell_type": "code",
   "execution_count": 27,
   "metadata": {},
   "outputs": [
    {
     "data": {
      "text/plain": [
       "(1851, 37)"
      ]
     },
     "execution_count": 27,
     "metadata": {},
     "output_type": "execute_result"
    }
   ],
   "source": [
    "df.shape"
   ]
  },
  {
   "cell_type": "code",
   "execution_count": 38,
   "metadata": {},
   "outputs": [],
   "source": [
    "test_size = 100\n",
    "trainSet = df[:df.shape[0]-test_size]\n",
    "testSet = df[df.shape[0]-test_size:]\n",
    "trainSet.to_csv(\"DataSets/trainSet.csv\")\n",
    "testSet.to_csv(\"DataSets/testSet.csv\")"
   ]
  },
  {
   "cell_type": "code",
   "execution_count": null,
   "metadata": {},
   "outputs": [],
   "source": []
  }
 ],
 "metadata": {
  "kernelspec": {
   "display_name": "Python 3",
   "language": "python",
   "name": "python3"
  },
  "language_info": {
   "codemirror_mode": {
    "name": "ipython",
    "version": 3
   },
   "file_extension": ".py",
   "mimetype": "text/x-python",
   "name": "python",
   "nbconvert_exporter": "python",
   "pygments_lexer": "ipython3",
   "version": "3.8.5"
  }
 },
 "nbformat": 4,
 "nbformat_minor": 4
}
